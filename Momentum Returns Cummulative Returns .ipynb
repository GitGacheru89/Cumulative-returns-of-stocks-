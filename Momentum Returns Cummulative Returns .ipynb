{
 "cells": [
  {
   "cell_type": "code",
   "execution_count": 1,
   "id": "1c3b178a",
   "metadata": {},
   "outputs": [],
   "source": [
    "import sys\n",
    "import pandas as pd\n",
    "import numpy as np\n",
    "import datetime\n",
    "import matplotlib.pyplot as plt\n",
    "\n",
    "import statsmodels.api as sm\n",
    "import statsmodels.formula.api as smf\n",
    "import seaborn as sb"
   ]
  },
  {
   "cell_type": "code",
   "execution_count": 2,
   "id": "e142fb68",
   "metadata": {},
   "outputs": [],
   "source": [
    "import time\n",
    "from time import strptime, strftime\n",
    "from pandas.tseries.offsets import MonthEnd"
   ]
  },
  {
   "cell_type": "code",
   "execution_count": 3,
   "id": "a6b7cf21",
   "metadata": {},
   "outputs": [],
   "source": [
    "pd.set_option(\"display.max_rows\", 100) # max number or rows to be displayed \n",
    "plt.rcParams['figure.figsize'] = [10, 6]\n",
    "idx = pd.IndexSlice"
   ]
  },
  {
   "cell_type": "code",
   "execution_count": 4,
   "id": "c79bb5bd",
   "metadata": {},
   "outputs": [],
   "source": [
    "import numpy as np\n",
    "import datetime\n",
    "from pandas.tseries.offsets import MonthEnd"
   ]
  },
  {
   "cell_type": "code",
   "execution_count": 5,
   "id": "0a519dd7",
   "metadata": {},
   "outputs": [],
   "source": [
    "df = pd.read_csv(\"CRSPm.csv\")"
   ]
  },
  {
   "cell_type": "code",
   "execution_count": 6,
   "id": "e76d477c",
   "metadata": {},
   "outputs": [
    {
     "data": {
      "text/html": [
       "<div>\n",
       "<style scoped>\n",
       "    .dataframe tbody tr th:only-of-type {\n",
       "        vertical-align: middle;\n",
       "    }\n",
       "\n",
       "    .dataframe tbody tr th {\n",
       "        vertical-align: top;\n",
       "    }\n",
       "\n",
       "    .dataframe thead th {\n",
       "        text-align: right;\n",
       "    }\n",
       "</style>\n",
       "<table border=\"1\" class=\"dataframe\">\n",
       "  <thead>\n",
       "    <tr style=\"text-align: right;\">\n",
       "      <th></th>\n",
       "      <th>date</th>\n",
       "      <th>GE</th>\n",
       "      <th>IBM</th>\n",
       "      <th>UA</th>\n",
       "      <th>SEE</th>\n",
       "    </tr>\n",
       "  </thead>\n",
       "  <tbody>\n",
       "    <tr>\n",
       "      <th>0</th>\n",
       "      <td>1/30/1970</td>\n",
       "      <td>72.375</td>\n",
       "      <td>335.25</td>\n",
       "      <td>32.875</td>\n",
       "      <td>7.750</td>\n",
       "    </tr>\n",
       "    <tr>\n",
       "      <th>1</th>\n",
       "      <td>2/27/1970</td>\n",
       "      <td>70.500</td>\n",
       "      <td>340.25</td>\n",
       "      <td>37.750</td>\n",
       "      <td>7.250</td>\n",
       "    </tr>\n",
       "    <tr>\n",
       "      <th>2</th>\n",
       "      <td>3/31/1970</td>\n",
       "      <td>73.750</td>\n",
       "      <td>338.50</td>\n",
       "      <td>36.000</td>\n",
       "      <td>7.125</td>\n",
       "    </tr>\n",
       "    <tr>\n",
       "      <th>3</th>\n",
       "      <td>4/30/1970</td>\n",
       "      <td>71.250</td>\n",
       "      <td>298.00</td>\n",
       "      <td>30.000</td>\n",
       "      <td>5.750</td>\n",
       "    </tr>\n",
       "    <tr>\n",
       "      <th>4</th>\n",
       "      <td>5/29/1970</td>\n",
       "      <td>66.375</td>\n",
       "      <td>278.00</td>\n",
       "      <td>29.875</td>\n",
       "      <td>5.750</td>\n",
       "    </tr>\n",
       "  </tbody>\n",
       "</table>\n",
       "</div>"
      ],
      "text/plain": [
       "        date      GE     IBM      UA    SEE\n",
       "0  1/30/1970  72.375  335.25  32.875  7.750\n",
       "1  2/27/1970  70.500  340.25  37.750  7.250\n",
       "2  3/31/1970  73.750  338.50  36.000  7.125\n",
       "3  4/30/1970  71.250  298.00  30.000  5.750\n",
       "4  5/29/1970  66.375  278.00  29.875  5.750"
      ]
     },
     "execution_count": 6,
     "metadata": {},
     "output_type": "execute_result"
    }
   ],
   "source": [
    "df.head()"
   ]
  },
  {
   "cell_type": "code",
   "execution_count": 7,
   "id": "7792358a",
   "metadata": {},
   "outputs": [
    {
     "data": {
      "text/html": [
       "<div>\n",
       "<style scoped>\n",
       "    .dataframe tbody tr th:only-of-type {\n",
       "        vertical-align: middle;\n",
       "    }\n",
       "\n",
       "    .dataframe tbody tr th {\n",
       "        vertical-align: top;\n",
       "    }\n",
       "\n",
       "    .dataframe thead th {\n",
       "        text-align: right;\n",
       "    }\n",
       "</style>\n",
       "<table border=\"1\" class=\"dataframe\">\n",
       "  <thead>\n",
       "    <tr style=\"text-align: right;\">\n",
       "      <th></th>\n",
       "      <th>date</th>\n",
       "      <th>GE</th>\n",
       "      <th>IBM</th>\n",
       "      <th>UA</th>\n",
       "      <th>SEE</th>\n",
       "    </tr>\n",
       "  </thead>\n",
       "  <tbody>\n",
       "    <tr>\n",
       "      <th>631</th>\n",
       "      <td>8/31/2022</td>\n",
       "      <td>73.44</td>\n",
       "      <td>128.45000</td>\n",
       "      <td>89.75</td>\n",
       "      <td>67.92</td>\n",
       "    </tr>\n",
       "    <tr>\n",
       "      <th>632</th>\n",
       "      <td>9/30/2022</td>\n",
       "      <td>61.91</td>\n",
       "      <td>118.81000</td>\n",
       "      <td>81.86</td>\n",
       "      <td>67.13</td>\n",
       "    </tr>\n",
       "    <tr>\n",
       "      <th>633</th>\n",
       "      <td>10/31/2022</td>\n",
       "      <td>77.81</td>\n",
       "      <td>138.28999</td>\n",
       "      <td>94.82</td>\n",
       "      <td>66.96</td>\n",
       "    </tr>\n",
       "    <tr>\n",
       "      <th>634</th>\n",
       "      <td>11/30/2022</td>\n",
       "      <td>85.97</td>\n",
       "      <td>148.89999</td>\n",
       "      <td>98.72</td>\n",
       "      <td>64.21</td>\n",
       "    </tr>\n",
       "    <tr>\n",
       "      <th>635</th>\n",
       "      <td>12/30/2022</td>\n",
       "      <td>83.79</td>\n",
       "      <td>140.89000</td>\n",
       "      <td>100.92</td>\n",
       "      <td>62.18</td>\n",
       "    </tr>\n",
       "  </tbody>\n",
       "</table>\n",
       "</div>"
      ],
      "text/plain": [
       "           date     GE        IBM      UA    SEE\n",
       "631   8/31/2022  73.44  128.45000   89.75  67.92\n",
       "632   9/30/2022  61.91  118.81000   81.86  67.13\n",
       "633  10/31/2022  77.81  138.28999   94.82  66.96\n",
       "634  11/30/2022  85.97  148.89999   98.72  64.21\n",
       "635  12/30/2022  83.79  140.89000  100.92  62.18"
      ]
     },
     "execution_count": 7,
     "metadata": {},
     "output_type": "execute_result"
    }
   ],
   "source": [
    "df.tail()"
   ]
  },
  {
   "cell_type": "code",
   "execution_count": 8,
   "id": "1e8f646e",
   "metadata": {},
   "outputs": [],
   "source": [
    "df = df.set_index(pd.DatetimeIndex(df[\"date\"].values))"
   ]
  },
  {
   "cell_type": "code",
   "execution_count": 9,
   "id": "90d8f67c",
   "metadata": {},
   "outputs": [],
   "source": [
    "df.drop(columns=(\"date\"), axis=1, inplace=True)"
   ]
  },
  {
   "cell_type": "code",
   "execution_count": 10,
   "id": "f6d5a02a",
   "metadata": {},
   "outputs": [
    {
     "data": {
      "text/html": [
       "<div>\n",
       "<style scoped>\n",
       "    .dataframe tbody tr th:only-of-type {\n",
       "        vertical-align: middle;\n",
       "    }\n",
       "\n",
       "    .dataframe tbody tr th {\n",
       "        vertical-align: top;\n",
       "    }\n",
       "\n",
       "    .dataframe thead th {\n",
       "        text-align: right;\n",
       "    }\n",
       "</style>\n",
       "<table border=\"1\" class=\"dataframe\">\n",
       "  <thead>\n",
       "    <tr style=\"text-align: right;\">\n",
       "      <th></th>\n",
       "      <th>GE</th>\n",
       "      <th>IBM</th>\n",
       "      <th>UA</th>\n",
       "      <th>SEE</th>\n",
       "    </tr>\n",
       "  </thead>\n",
       "  <tbody>\n",
       "    <tr>\n",
       "      <th>1970-01-30</th>\n",
       "      <td>72.375</td>\n",
       "      <td>335.25000</td>\n",
       "      <td>32.875</td>\n",
       "      <td>7.750</td>\n",
       "    </tr>\n",
       "    <tr>\n",
       "      <th>1970-02-27</th>\n",
       "      <td>70.500</td>\n",
       "      <td>340.25000</td>\n",
       "      <td>37.750</td>\n",
       "      <td>7.250</td>\n",
       "    </tr>\n",
       "    <tr>\n",
       "      <th>1970-03-31</th>\n",
       "      <td>73.750</td>\n",
       "      <td>338.50000</td>\n",
       "      <td>36.000</td>\n",
       "      <td>7.125</td>\n",
       "    </tr>\n",
       "    <tr>\n",
       "      <th>1970-04-30</th>\n",
       "      <td>71.250</td>\n",
       "      <td>298.00000</td>\n",
       "      <td>30.000</td>\n",
       "      <td>5.750</td>\n",
       "    </tr>\n",
       "    <tr>\n",
       "      <th>1970-05-29</th>\n",
       "      <td>66.375</td>\n",
       "      <td>278.00000</td>\n",
       "      <td>29.875</td>\n",
       "      <td>5.750</td>\n",
       "    </tr>\n",
       "    <tr>\n",
       "      <th>...</th>\n",
       "      <td>...</td>\n",
       "      <td>...</td>\n",
       "      <td>...</td>\n",
       "      <td>...</td>\n",
       "    </tr>\n",
       "    <tr>\n",
       "      <th>2022-08-31</th>\n",
       "      <td>73.440</td>\n",
       "      <td>128.45000</td>\n",
       "      <td>89.750</td>\n",
       "      <td>67.920</td>\n",
       "    </tr>\n",
       "    <tr>\n",
       "      <th>2022-09-30</th>\n",
       "      <td>61.910</td>\n",
       "      <td>118.81000</td>\n",
       "      <td>81.860</td>\n",
       "      <td>67.130</td>\n",
       "    </tr>\n",
       "    <tr>\n",
       "      <th>2022-10-31</th>\n",
       "      <td>77.810</td>\n",
       "      <td>138.28999</td>\n",
       "      <td>94.820</td>\n",
       "      <td>66.960</td>\n",
       "    </tr>\n",
       "    <tr>\n",
       "      <th>2022-11-30</th>\n",
       "      <td>85.970</td>\n",
       "      <td>148.89999</td>\n",
       "      <td>98.720</td>\n",
       "      <td>64.210</td>\n",
       "    </tr>\n",
       "    <tr>\n",
       "      <th>2022-12-30</th>\n",
       "      <td>83.790</td>\n",
       "      <td>140.89000</td>\n",
       "      <td>100.920</td>\n",
       "      <td>62.180</td>\n",
       "    </tr>\n",
       "  </tbody>\n",
       "</table>\n",
       "<p>636 rows × 4 columns</p>\n",
       "</div>"
      ],
      "text/plain": [
       "                GE        IBM       UA     SEE\n",
       "1970-01-30  72.375  335.25000   32.875   7.750\n",
       "1970-02-27  70.500  340.25000   37.750   7.250\n",
       "1970-03-31  73.750  338.50000   36.000   7.125\n",
       "1970-04-30  71.250  298.00000   30.000   5.750\n",
       "1970-05-29  66.375  278.00000   29.875   5.750\n",
       "...            ...        ...      ...     ...\n",
       "2022-08-31  73.440  128.45000   89.750  67.920\n",
       "2022-09-30  61.910  118.81000   81.860  67.130\n",
       "2022-10-31  77.810  138.28999   94.820  66.960\n",
       "2022-11-30  85.970  148.89999   98.720  64.210\n",
       "2022-12-30  83.790  140.89000  100.920  62.180\n",
       "\n",
       "[636 rows x 4 columns]"
      ]
     },
     "execution_count": 10,
     "metadata": {},
     "output_type": "execute_result"
    }
   ],
   "source": [
    "df"
   ]
  },
  {
   "cell_type": "code",
   "execution_count": 11,
   "id": "5b432d3a",
   "metadata": {},
   "outputs": [],
   "source": [
    "returns = df.pct_change()"
   ]
  },
  {
   "cell_type": "code",
   "execution_count": 12,
   "id": "ef1c84d6",
   "metadata": {},
   "outputs": [
    {
     "data": {
      "text/html": [
       "<div>\n",
       "<style scoped>\n",
       "    .dataframe tbody tr th:only-of-type {\n",
       "        vertical-align: middle;\n",
       "    }\n",
       "\n",
       "    .dataframe tbody tr th {\n",
       "        vertical-align: top;\n",
       "    }\n",
       "\n",
       "    .dataframe thead th {\n",
       "        text-align: right;\n",
       "    }\n",
       "</style>\n",
       "<table border=\"1\" class=\"dataframe\">\n",
       "  <thead>\n",
       "    <tr style=\"text-align: right;\">\n",
       "      <th></th>\n",
       "      <th>GE</th>\n",
       "      <th>IBM</th>\n",
       "      <th>UA</th>\n",
       "      <th>SEE</th>\n",
       "    </tr>\n",
       "  </thead>\n",
       "  <tbody>\n",
       "    <tr>\n",
       "      <th>1970-01-30</th>\n",
       "      <td>NaN</td>\n",
       "      <td>NaN</td>\n",
       "      <td>NaN</td>\n",
       "      <td>NaN</td>\n",
       "    </tr>\n",
       "    <tr>\n",
       "      <th>1970-02-27</th>\n",
       "      <td>-0.025907</td>\n",
       "      <td>0.014914</td>\n",
       "      <td>0.148289</td>\n",
       "      <td>-0.064516</td>\n",
       "    </tr>\n",
       "  </tbody>\n",
       "</table>\n",
       "</div>"
      ],
      "text/plain": [
       "                  GE       IBM        UA       SEE\n",
       "1970-01-30       NaN       NaN       NaN       NaN\n",
       "1970-02-27 -0.025907  0.014914  0.148289 -0.064516"
      ]
     },
     "execution_count": 12,
     "metadata": {},
     "output_type": "execute_result"
    }
   ],
   "source": [
    "returns.head(2)"
   ]
  },
  {
   "cell_type": "code",
   "execution_count": 20,
   "id": "13e9c8b0",
   "metadata": {},
   "outputs": [],
   "source": [
    "weights = np.array([0.3, 0.25, 0.2, 0.25])"
   ]
  },
  {
   "cell_type": "code",
   "execution_count": 21,
   "id": "65c51946",
   "metadata": {},
   "outputs": [
    {
     "name": "stdout",
     "output_type": "stream",
     "text": [
      "GE     0.013112\n",
      "IBM    0.002675\n",
      "UA     0.006452\n",
      "SEE   -0.001350\n",
      "dtype: float64\n"
     ]
    }
   ],
   "source": [
    "#Calculating average monthly return for each stock\n",
    "meanMonthlyReturns = returns.mean()\n",
    "print (meanMonthlyReturns)"
   ]
  },
  {
   "cell_type": "code",
   "execution_count": 22,
   "id": "7527d1ea",
   "metadata": {},
   "outputs": [],
   "source": [
    "#Calculating portfolio return \n",
    "portReturn = np.sum(meanMonthlyReturns * weights)"
   ]
  },
  {
   "cell_type": "code",
   "execution_count": 23,
   "id": "f1748981",
   "metadata": {},
   "outputs": [
    {
     "name": "stdout",
     "output_type": "stream",
     "text": [
      "0.005555324825829983\n"
     ]
    }
   ],
   "source": [
    "print (portReturn)"
   ]
  },
  {
   "cell_type": "code",
   "execution_count": 24,
   "id": "543d3f69",
   "metadata": {},
   "outputs": [],
   "source": [
    "#Calculating cumulative returns\n",
    "returns [\"Portfolio\"] = returns.dot(weights)"
   ]
  },
  {
   "cell_type": "code",
   "execution_count": 25,
   "id": "529f0ae8",
   "metadata": {},
   "outputs": [
    {
     "data": {
      "text/html": [
       "<div>\n",
       "<style scoped>\n",
       "    .dataframe tbody tr th:only-of-type {\n",
       "        vertical-align: middle;\n",
       "    }\n",
       "\n",
       "    .dataframe tbody tr th {\n",
       "        vertical-align: top;\n",
       "    }\n",
       "\n",
       "    .dataframe thead th {\n",
       "        text-align: right;\n",
       "    }\n",
       "</style>\n",
       "<table border=\"1\" class=\"dataframe\">\n",
       "  <thead>\n",
       "    <tr style=\"text-align: right;\">\n",
       "      <th></th>\n",
       "      <th>GE</th>\n",
       "      <th>IBM</th>\n",
       "      <th>UA</th>\n",
       "      <th>SEE</th>\n",
       "      <th>Portfolio</th>\n",
       "    </tr>\n",
       "  </thead>\n",
       "  <tbody>\n",
       "    <tr>\n",
       "      <th>1970-01-30</th>\n",
       "      <td>NaN</td>\n",
       "      <td>NaN</td>\n",
       "      <td>NaN</td>\n",
       "      <td>NaN</td>\n",
       "      <td>NaN</td>\n",
       "    </tr>\n",
       "    <tr>\n",
       "      <th>1970-02-27</th>\n",
       "      <td>-0.025907</td>\n",
       "      <td>0.014914</td>\n",
       "      <td>0.148289</td>\n",
       "      <td>-0.064516</td>\n",
       "      <td>0.009485</td>\n",
       "    </tr>\n",
       "    <tr>\n",
       "      <th>1970-03-31</th>\n",
       "      <td>0.046099</td>\n",
       "      <td>-0.005143</td>\n",
       "      <td>-0.046358</td>\n",
       "      <td>-0.017241</td>\n",
       "      <td>-0.001038</td>\n",
       "    </tr>\n",
       "  </tbody>\n",
       "</table>\n",
       "</div>"
      ],
      "text/plain": [
       "                  GE       IBM        UA       SEE  Portfolio\n",
       "1970-01-30       NaN       NaN       NaN       NaN        NaN\n",
       "1970-02-27 -0.025907  0.014914  0.148289 -0.064516   0.009485\n",
       "1970-03-31  0.046099 -0.005143 -0.046358 -0.017241  -0.001038"
      ]
     },
     "execution_count": 25,
     "metadata": {},
     "output_type": "execute_result"
    }
   ],
   "source": [
    "returns.head(3)"
   ]
  },
  {
   "cell_type": "code",
   "execution_count": 26,
   "id": "3837956d",
   "metadata": {},
   "outputs": [],
   "source": [
    "#Compound of the percentage of returns over time\n",
    "monthly_cum_ret = (1+returns).cumprod()"
   ]
  },
  {
   "cell_type": "code",
   "execution_count": 28,
   "id": "3470a70e",
   "metadata": {},
   "outputs": [
    {
     "data": {
      "text/plain": [
       "<Axes: >"
      ]
     },
     "execution_count": 28,
     "metadata": {},
     "output_type": "execute_result"
    },
    {
     "data": {
      "image/png": "[encoded data removed]",
      "text/plain": [
       "<Figure size 1000x600 with 1 Axes>"
      ]
     },
     "metadata": {},
     "output_type": "display_data"
    }
   ],
   "source": [
    "#Plot the cummulative returns\n",
    "monthly_cum_ret.Portfolio.plot()"
   ]
  },
  {
   "cell_type": "code",
   "execution_count": null,
   "id": "efde9725",
   "metadata": {},
   "outputs": [],
   "source": [
    "#Above is the monthly cummulative return {GE, IBM, UA, SEE} from Jan. 1970 t0 Dec. 2022"
   ]
  }
 ],
 "metadata": {
  "kernelspec": {
   "display_name": "Python 3 (ipykernel)",
   "language": "python",
   "name": "python3"
  },
  "language_info": {
   "codemirror_mode": {
    "name": "ipython",
    "version": 3
   },
   "file_extension": ".py",
   "mimetype": "text/x-python",
   "name": "python",
   "nbconvert_exporter": "python",
   "pygments_lexer": "ipython3",
   "version": "3.10.9"
  }
 },
 "nbformat": 4,
 "nbformat_minor": 5
}
